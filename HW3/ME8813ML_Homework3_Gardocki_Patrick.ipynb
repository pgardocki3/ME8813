{
 "cells": [
  {
   "cell_type": "code",
   "execution_count": 21,
   "id": "1da1c0fd",
   "metadata": {},
   "outputs": [],
   "source": [
    "from pgmpy.factors.discrete import TabularCPD\n",
    "from pgmpy.models import BayesianNetwork\n",
    "from pgmpy.inference import VariableElimination\n",
    "from pgmpy.inference import ApproxInference"
   ]
  },
  {
   "cell_type": "code",
   "execution_count": 22,
   "id": "8cb03ab0",
   "metadata": {},
   "outputs": [
    {
     "data": {
      "text/plain": [
       "(UR ⟂ LB)\n",
       "(UR ⟂ OR | D)\n",
       "(UR ⟂ OR | LB, D)\n",
       "(LB ⟂ UR)\n",
       "(LB ⟂ OR | D)\n",
       "(LB ⟂ OR | UR, D)\n",
       "(OR ⟂ UR, LB | D)\n",
       "(OR ⟂ LB | UR, D)\n",
       "(OR ⟂ UR | LB, D)"
      ]
     },
     "execution_count": 22,
     "metadata": {},
     "output_type": "execute_result"
    }
   ],
   "source": [
    "# Defining the model structure. We can define the network by just passing a list of edges.\n",
    "model = BayesianNetwork([('LB', 'D'), ('UR', 'D'), ('D', 'OR')])\n",
    "\n",
    "# Defining individual CPDs.\n",
    "cpd_LB = TabularCPD(variable='LB', variable_card=2, values=[[0.05], [0.95]])\n",
    "cpd_UR = TabularCPD(variable='UR', variable_card=2, values=[[0.4], [0.6]])\n",
    "\n",
    "\n",
    "cpd_D = TabularCPD(variable='D', variable_card=2,\n",
    "                   values=[[0.9, 0.5, 0.3, 0.01],\n",
    "                           [0.1, 0.5, 0.7, 0.99]],\n",
    "                  evidence=['LB', 'UR'],\n",
    "                  evidence_card=[2, 2])\n",
    "\n",
    "cpd_OR = TabularCPD(variable='OR', variable_card=2,\n",
    "                   values=[[0.9, 0.1],\n",
    "                           [0.1, 0.9]],\n",
    "                   evidence=['D'],\n",
    "                   evidence_card=[2])\n",
    "\n",
    "# Associating the CPDs with the network\n",
    "model.add_cpds(cpd_LB, cpd_UR, cpd_D, cpd_OR)\n",
    "\n",
    "# check_model checks for the network structure and CPDs and verifies that the CPDs are correctly\n",
    "# defined and sum to 1.\n",
    "model.check_model()\n",
    "model.get_independencies()"
   ]
  },
  {
   "cell_type": "code",
   "execution_count": 23,
   "id": "9cac8fa9",
   "metadata": {},
   "outputs": [
    {
     "name": "stdout",
     "output_type": "stream",
     "text": [
      "+-------+-----------+\n",
      "| LB    |   phi(LB) |\n",
      "+=======+===========+\n",
      "| LB(0) |    0.1413 |\n",
      "+-------+-----------+\n",
      "| LB(1) |    0.8587 |\n",
      "+-------+-----------+\n"
     ]
    }
   ],
   "source": [
    "infer = VariableElimination(model)\n",
    "g_dist = infer.query(['D'])\n",
    "print(infer.query(['LB'], evidence={'OR': 0}))"
   ]
  },
  {
   "cell_type": "code",
   "execution_count": 29,
   "id": "3aee8127",
   "metadata": {},
   "outputs": [
    {
     "name": "stderr",
     "output_type": "stream",
     "text": [
      "100%|██████████| 10000/10000 [00:00<00:00, 65145.33it/s]"
     ]
    },
    {
     "name": "stdout",
     "output_type": "stream",
     "text": [
      "+-------+-----------+\n",
      "| LB    |   phi(LB) |\n",
      "+=======+===========+\n",
      "| LB(0) |    0.1427 |\n",
      "+-------+-----------+\n",
      "| LB(1) |    0.8573 |\n",
      "+-------+-----------+\n"
     ]
    },
    {
     "name": "stderr",
     "output_type": "stream",
     "text": [
      "\n"
     ]
    }
   ],
   "source": [
    "infer = ApproxInference(model)\n",
    "print(infer.query('LB',n_samples=10000, evidence={'OR': 0}))"
   ]
  },
  {
   "cell_type": "code",
   "execution_count": 25,
   "id": "19424af4",
   "metadata": {},
   "outputs": [
    {
     "data": {
      "text/plain": [
       "[<TabularCPD representing P(LB:2) at 0x12f2204d0>,\n",
       " <TabularCPD representing P(UR:2) at 0x12f221090>,\n",
       " <TabularCPD representing P(D:2 | LB:2, UR:2) at 0x12f221110>,\n",
       " <TabularCPD representing P(OR:2 | D:2) at 0x12f2211d0>]"
      ]
     },
     "execution_count": 25,
     "metadata": {},
     "output_type": "execute_result"
    }
   ],
   "source": [
    "model.get_cpds()"
   ]
  }
 ],
 "metadata": {
  "kernelspec": {
   "display_name": "Python 3 (ipykernel)",
   "language": "python",
   "name": "python3"
  },
  "language_info": {
   "codemirror_mode": {
    "name": "ipython",
    "version": 3
   },
   "file_extension": ".py",
   "mimetype": "text/x-python",
   "name": "python",
   "nbconvert_exporter": "python",
   "pygments_lexer": "ipython3",
   "version": "3.11.2"
  }
 },
 "nbformat": 4,
 "nbformat_minor": 5
}
