{
 "cells": [
  {
   "cell_type": "code",
   "execution_count": 137,
   "id": "facafdce",
   "metadata": {},
   "outputs": [],
   "source": [
    "import numpy as np\n",
    "from numpy.linalg import det\n",
    "import matplotlib.pyplot as plt\n",
    "from scipy.spatial import Voronoi, voronoi_plot_2d, Delaunay\n",
    "import matplotlib.pyplot as plt\n",
    "from mpl_toolkits.mplot3d import Axes3D\n",
    "import time\n"
   ]
  },
  {
   "attachments": {},
   "cell_type": "markdown",
   "id": "80c0830a",
   "metadata": {},
   "source": [
    "## 2D SciPy Delaunay"
   ]
  },
  {
   "cell_type": "code",
   "execution_count": 786,
   "id": "4654b905",
   "metadata": {},
   "outputs": [
    {
     "name": "stdout",
     "output_type": "stream",
     "text": [
      "[[0.16103031 0.7345475 ]\n",
      " [0.08859133 0.80181665]\n",
      " [0.00999027 0.71592058]]\n",
      "--- 0.21357274055480957 seconds ---\n"
     ]
    }
   ],
   "source": [
    "\n",
    "start_time = time.time()\n",
    "np.random.seed(114131)\n",
    "# points = np.array([[0,0],[0,1.1],[1,0],[1,1]])\n",
    "points = np.random.rand(100, 2)\n",
    "\n",
    "tri1 = Delaunay(points)\n",
    "\n",
    "print(points[tri1.simplices][1])\n",
    "plt.triplot(points[:,0], points[:,1], tri1.simplices,)\n",
    "\n",
    "plt.plot(points[:,0], points[:,1], 'o')\n",
    "\n",
    "plt.show()\n",
    "\n",
    "print(\"--- %s seconds ---\" % (time.time() - start_time))"
   ]
  },
  {
   "attachments": {},
   "cell_type": "markdown",
   "id": "e1d606f9",
   "metadata": {},
   "source": [
    "## 3D SciPy Delaunay"
   ]
  },
  {
   "cell_type": "code",
   "execution_count": 787,
   "id": "91049ef1",
   "metadata": {},
   "outputs": [
    {
     "name": "stdout",
     "output_type": "stream",
     "text": [
      "Using matplotlib backend: MacOSX\n",
      "--- 0.06795597076416016 seconds ---\n"
     ]
    }
   ],
   "source": [
    "def get_first_value(tuples_list):\n",
    "\n",
    "    return [t[0] for t in tuples_list]\n",
    "   \n",
    "\n",
    "def get_second_value(tuples_list):\n",
    "        return [t[1] for t in tuples_list]\n",
    "    \n",
    "\n",
    "def get_third_value(tuples_list):\n",
    "\n",
    "        return [t[2] for t in tuples_list]\n",
    "\n",
    "%matplotlib\n",
    "\n",
    "start_time = time.time()\n",
    "# Define the function that describes the surface\n",
    "def f(x, y):\n",
    "    # return np.cos(.8*np.sqrt(x**2 + y**2)+2)\n",
    "    # return np.cos(.3*x + 2)\n",
    "    return np.sin(x*np.pi/10.) * np.cos(y*np.pi*3/20.)\n",
    "\n",
    "# Define the x, y coordinates of the points on the surface\n",
    "x = np.linspace(1, 15, 9)\n",
    "y = np.linspace(1, 15, 9)\n",
    "\n",
    "# Create a meshgrid from the x, y coordinates\n",
    "X, Y = np.meshgrid(x, y)\n",
    "\n",
    "# Calculate the corresponding z coordinates using the surface function\n",
    "Z = f(X, Y)\n",
    "\n",
    "# Combine the x, y, and z coordinates into a 3D array of points\n",
    "points = np.vstack([X.ravel(), Y.ravel(), Z.ravel()]).T\n",
    "################################################################################\n",
    "\n",
    "tri = Delaunay(points) \n",
    "\n",
    "\n",
    "################################################################################\n",
    "# 3D\n",
    "\n",
    "# Plot the results (optional)\n",
    "plt.close('all')\n",
    "fig = plt.figure()\n",
    "ax = fig.add_subplot(111, projection='3d')\n",
    "ax.plot_trisurf(points[:,0],points[:,1],points[:,2])\n",
    "print(\"--- %s seconds ---\" % (time.time() - start_time))"
   ]
  },
  {
   "attachments": {},
   "cell_type": "markdown",
   "id": "ecdc4f64",
   "metadata": {},
   "source": [
    "# 2D and 3D Delaunay Function"
   ]
  },
  {
   "cell_type": "code",
   "execution_count": 673,
   "id": "6eb9d8f6",
   "metadata": {},
   "outputs": [],
   "source": [
    "def delaunay_2D(points):\n",
    "    edges = []\n",
    "    i = 0\n",
    "    for i in range(len(points)):\n",
    "        for j in range(i+1, len(points)):\n",
    "            for k in range(j+1, len(points)):\n",
    "                # Check if the three points form a circle that contains no other points\n",
    "\n",
    "                x1, y1 = points[i]\n",
    "                x2, y2 = points[j]\n",
    "                x3, y3 = points[k]\n",
    "                a = x2 - x1\n",
    "                b = y2 - y1\n",
    "                c = x3 - x1\n",
    "                d = y3 - y1\n",
    "                e = a*(x1 + x2) + b*(y1 + y2)\n",
    "                f = c*(x1 + x3) + d*(y1 + y3)\n",
    "                g = 2*(a*(y3 - y2) - b*(x3 - x2))\n",
    "                if g == 0:\n",
    "                    continue\n",
    "                center_x = (d*e - b*f) / g\n",
    "                center_y = (a*f - c*e) / g\n",
    "                radius = ((x1 - center_x)**2 + (y1 - center_y)**2)**0.5\n",
    "                contains_point = False\n",
    "                for p in points:\n",
    "                    if p == points[i] or p == points[j] or p == points[k]:\n",
    "                        continue\n",
    "                    if ((p[0] - center_x)**2 + (p[1] - center_y)**2)**0.5 < radius:\n",
    "                        contains_point = True\n",
    "                        break\n",
    "                if not contains_point:\n",
    "                    edges.append((i, j))\n",
    "                    edges.append((j, k))\n",
    "                    edges.append((k, i))\n",
    "    \n",
    "    # Remove duplicate edges\n",
    "    edges = list(set(edges))\n",
    "    \n",
    "    return edges\n",
    "    "
   ]
  },
  {
   "cell_type": "code",
   "execution_count": 782,
   "id": "6a023a4c",
   "metadata": {},
   "outputs": [],
   "source": [
    "def delaunay_3D(points):\n",
    "\n",
    "        \n",
    "    # Create a list of tetrahedrons\n",
    "    tetrahedrons = []\n",
    "    for i in range(len(points)):\n",
    "        for j in range(i+1, len(points)):\n",
    "            for k in range(j+1, len(points)):\n",
    "                for l in range(k+1, len(points)):\n",
    "                    \n",
    "                    # Check if the four points form a circumsphere that contains no other points\n",
    "                    circumsphere = _circumsphere(points[i], points[j], points[k], points[l])\n",
    "                    if all(_point_in_sphere(point, circumsphere) for point in points if point not in (points[i], points[j], points[k], points[l])):\n",
    "                        tetrahedrons.append((points[i], points[j], points[k], points[l]))\n",
    "    \n",
    "    return tetrahedrons\n",
    "\n",
    "def _circumsphere(p1, p2, p3, p4):\n",
    "  \n",
    "    # Calculate the coefficients of the matrix\n",
    "    a = p2[0] - p1[0]\n",
    "    b = p2[1] - p1[1]\n",
    "    c = p2[2] - p1[2]\n",
    "    d = p3[0] - p1[0]\n",
    "    e = p3[1] - p1[1]\n",
    "    f = p3[2] - p1[2]\n",
    "    g = p4[0] - p1[0]\n",
    "    h = p4[1] - p1[1]\n",
    "    i = p4[2] - p1[2]\n",
    "    D = 2 * (a * (e * i - h * f) - b * (d * i - g * f) + c * (d * h - g * e))\n",
    "    \n",
    "    # Calculate the center of the circumsphere\n",
    "    x = ((e * i - h * f) * (a**2 + b**2 + c**2) - (d * i - g * f) * (b**2 + c**2 + (p3[1] - p1[1])**2) + (d * h - g * e) * (c**2 + (p3[2] - p1[2])**2 + (p3[0] - p1[0])**2)) / D\n",
    "    y = ((d * i - g * f) * (a**2 + b**2 + c**2) - (e * i - h * f) * (a**2 + c**2 + (p2[0] - p1[0])**2) + (d * h - g * e) * ((p3[1] - p1[1])**2 + (p3[0] - p1[0])**2 + c**2)) / D\n",
    "    z = ((d * h - g * e) * (a**2 + b**2 + c**2) - (e * i - h * f) * (b**2 + c**2 + (p2[1] - p1[1])**2) + (d * i - g * f) * ((p3[2] - p1[2])**2 + (p3[0] - p1[0])**2 + b**2)) / D\n",
    "    \n",
    "    # Calculate the radius of the circumsphere\n",
    "    r = math.sqrt((x - p1[0])**2 + (y - p1[1])**2 + (z - p1[2])**2)\n",
    "    \n",
    "    # Return the center and radius of the circumsphere\n",
    "    return (x, y, z, r)\n",
    "  \n",
    "\n",
    "\n",
    "def _point_in_sphere(point, sphere):\n",
    "    return math.sqrt((point[0]-sphere[0])**2 + (point[1]-sphere[1])**2 + (point[2]-sphere[2])**2) < sphere[1]\n"
   ]
  },
  {
   "attachments": {},
   "cell_type": "markdown",
   "id": "f6e9d247",
   "metadata": {},
   "source": [
    "# Testing Area"
   ]
  },
  {
   "attachments": {},
   "cell_type": "markdown",
   "id": "0c6fc2b3",
   "metadata": {},
   "source": [
    "### 2D"
   ]
  },
  {
   "cell_type": "code",
   "execution_count": 794,
   "id": "2587b947",
   "metadata": {},
   "outputs": [
    {
     "name": "stdout",
     "output_type": "stream",
     "text": [
      "Using matplotlib backend: MacOSX\n",
      "--- 20.30254626274109 seconds ---\n",
      "--- 20.37178897857666 seconds ---\n"
     ]
    }
   ],
   "source": [
    "def get_first_value(tuples_list):\n",
    "\n",
    "    return [t[0] for t in tuples_list]\n",
    "\n",
    "def get_second_value(tuples_list):\n",
    "\n",
    "    return [t[1] for t in tuples_list]\n",
    "   \n",
    "\n",
    "def get_third_value(tuples_list):\n",
    "\n",
    "    return [t[2] for t in tuples_list]\n",
    "   \n",
    "%matplotlib\n",
    "\n",
    "start_time = time.time()\n",
    "\n",
    "\n",
    "################################################################################\n",
    "\n",
    "np.random.seed(114131)\n",
    "points = np.random.rand(100,2)\n",
    "\n",
    "\n",
    "################################################################################\n",
    "D = 2\n",
    "\n",
    "points.tolist()\n",
    "points1 = []\n",
    "for i in range(len(points)):\n",
    "    if D == 2:\n",
    "        points1.append((points[i,0],points[i,1]))\n",
    "        tri = delaunay_2D(points1) \n",
    "    else:\n",
    "        points1.append((points[i,0],points[i,1],points[i,2]))\n",
    "        tri = delaunay_3D(points1) \n",
    "\n",
    "print(\"--- %s seconds ---\" % (time.time() - start_time))\n",
    "\n",
    "\n",
    "###############################################################################\n",
    "# 2D\n",
    "index = get_first_value(tri)\n",
    "\n",
    "plt.triplot(points[index][:,0], points[index][:,1])\n",
    "\n",
    "plt.show()\n",
    "\n",
    "\n",
    "\n",
    "print(\"--- %s seconds ---\" % (time.time() - start_time))"
   ]
  },
  {
   "attachments": {},
   "cell_type": "markdown",
   "id": "657cccdf",
   "metadata": {},
   "source": [
    "### 3D"
   ]
  },
  {
   "cell_type": "code",
   "execution_count": 795,
   "id": "766323af",
   "metadata": {},
   "outputs": [
    {
     "name": "stdout",
     "output_type": "stream",
     "text": [
      "Using matplotlib backend: MacOSX\n"
     ]
    },
    {
     "name": "stderr",
     "output_type": "stream",
     "text": [
      "/var/folders/1p/cp6mx14s7fbcxp3s3vtxppl00000gn/T/ipykernel_11698/3520562298.py:33: RuntimeWarning: divide by zero encountered in double_scalars\n",
      "  x = ((e * i - h * f) * (a**2 + b**2 + c**2) - (d * i - g * f) * (b**2 + c**2 + (p3[1] - p1[1])**2) + (d * h - g * e) * (c**2 + (p3[2] - p1[2])**2 + (p3[0] - p1[0])**2)) / D\n",
      "/var/folders/1p/cp6mx14s7fbcxp3s3vtxppl00000gn/T/ipykernel_11698/3520562298.py:34: RuntimeWarning: divide by zero encountered in double_scalars\n",
      "  y = ((d * i - g * f) * (a**2 + b**2 + c**2) - (e * i - h * f) * (a**2 + c**2 + (p2[0] - p1[0])**2) + (d * h - g * e) * ((p3[1] - p1[1])**2 + (p3[0] - p1[0])**2 + c**2)) / D\n",
      "/var/folders/1p/cp6mx14s7fbcxp3s3vtxppl00000gn/T/ipykernel_11698/3520562298.py:35: RuntimeWarning: divide by zero encountered in double_scalars\n",
      "  z = ((d * h - g * e) * (a**2 + b**2 + c**2) - (e * i - h * f) * (b**2 + c**2 + (p2[1] - p1[1])**2) + (d * i - g * f) * ((p3[2] - p1[2])**2 + (p3[0] - p1[0])**2 + b**2)) / D\n",
      "/var/folders/1p/cp6mx14s7fbcxp3s3vtxppl00000gn/T/ipykernel_11698/3520562298.py:34: RuntimeWarning: invalid value encountered in double_scalars\n",
      "  y = ((d * i - g * f) * (a**2 + b**2 + c**2) - (e * i - h * f) * (a**2 + c**2 + (p2[0] - p1[0])**2) + (d * h - g * e) * ((p3[1] - p1[1])**2 + (p3[0] - p1[0])**2 + c**2)) / D\n"
     ]
    },
    {
     "name": "stdout",
     "output_type": "stream",
     "text": [
      "--- 0.8620121479034424 seconds ---\n",
      "--- 0.9547891616821289 seconds ---\n"
     ]
    }
   ],
   "source": [
    "def get_first_value(tuples_list):\n",
    "\n",
    "    return [t[0] for t in tuples_list]\n",
    "\n",
    "def get_second_value(tuples_list):\n",
    "\n",
    "    return [t[1] for t in tuples_list]\n",
    "   \n",
    "\n",
    "def get_third_value(tuples_list):\n",
    "\n",
    "    return [t[2] for t in tuples_list]\n",
    "   \n",
    "%matplotlib\n",
    "\n",
    "start_time = time.time()\n",
    "\n",
    "\n",
    "################################################################################\n",
    "\n",
    "# Define the function that describes the surface\n",
    "def f(x, y):\n",
    "    # return np.cos(.8*np.sqrt(x**2 + y**2)+2)\n",
    "    # return np.cos(.3*x + 2)\n",
    "    # return np.sqrt(2-(x-2)**2-y**2) +2\n",
    "    return np.sin(x*np.pi/10.) * np.cos(y*np.pi*3/20.)\n",
    "\n",
    "# Define the x, y coordinates of the points on the surface\n",
    "x = np.linspace(1, 15, 5)\n",
    "y = np.linspace(1, 15, 5)\n",
    "\n",
    "# Create a meshgrid from the x, y coordinates\n",
    "X, Y = np.meshgrid(x, y)\n",
    "\n",
    "# Calculate the corresponding z coordinates using the surface function\n",
    "Z = f(X, Y)\n",
    "\n",
    "# Combine the x, y, and z coordinates into a 3D array of points\n",
    "points = np.vstack([X.ravel(), Y.ravel(), Z.ravel()]).T\n",
    "################################################################################\n",
    "\n",
    "################################################################################\n",
    "D = 3\n",
    "\n",
    "points.tolist()\n",
    "points1 = []\n",
    "for i in range(len(points)):\n",
    "    if D == 2:\n",
    "        points1.append((points[i,0],points[i,1]))\n",
    "        tri = delaunay_2D(points1) \n",
    "    else:\n",
    "        points1.append((points[i,0],points[i,1],points[i,2]))\n",
    "        tri = delaunay_3D(points1) \n",
    "\n",
    "print(\"--- %s seconds ---\" % (time.time() - start_time))\n",
    "################################################################################\n",
    "# 3D\n",
    "index = [sp for tpl in tri for sp in tpl]\n",
    "\n",
    "x_index = get_first_value(index)\n",
    "y_index = get_second_value(index)\n",
    "z_index = get_third_value(index)\n",
    "\n",
    "\n",
    "# Plot the results (optional)\n",
    "plt.close('all')\n",
    "fig = plt.figure()\n",
    "ax = fig.add_subplot(111, projection='3d')\n",
    "ax.plot_trisurf(x_index, y_index, z_index)\n",
    "\n",
    "\n",
    "\n",
    "print(\"--- %s seconds ---\" % (time.time() - start_time))"
   ]
  }
 ],
 "metadata": {
  "kernelspec": {
   "display_name": "Python 3 (ipykernel)",
   "language": "python",
   "name": "python3"
  },
  "language_info": {
   "codemirror_mode": {
    "name": "ipython",
    "version": 3
   },
   "file_extension": ".py",
   "mimetype": "text/x-python",
   "name": "python",
   "nbconvert_exporter": "python",
   "pygments_lexer": "ipython3",
   "version": "3.11.0"
  }
 },
 "nbformat": 4,
 "nbformat_minor": 5
}
